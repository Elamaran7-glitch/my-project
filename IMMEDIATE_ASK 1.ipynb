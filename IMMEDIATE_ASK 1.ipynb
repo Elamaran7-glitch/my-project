{
 "cells": [
  {
   "cell_type": "code",
   "execution_count": 23,
   "metadata": {},
   "outputs": [],
   "source": [
    "texts =\"\"\"\n",
    "Generative AI: An Overview\n",
    "\n",
    "Introduction\n",
    "Generative AI refers to a category of artificial intelligence algorithms that enable machines to generate new data, often resembling human-created content. This can include text, images, audio, and even code.\n",
    "\n",
    "Key Concepts\n",
    "- Models: Generative AI utilizes models like GPT (Generative Pre-trained Transformer) and GANs (Generative Adversarial Networks).\n",
    "- Training Data: These models are trained on vast amounts of data, allowing them to learn patterns and structures.\n",
    "- Applications: Some popular applications of generative AI include chatbots, content creation, and image synthesis.\n",
    "\n",
    "Generative AI Models\n",
    "1. GPT (Generative Pre-trained Transformer)\n",
    "   - Developed by OpenAI.\n",
    "   - Excels in text generation tasks.\n",
    "   - Examples include GPT-3 and GPT-4.\n",
    "\n",
    "2. GANs (Generative Adversarial Networks)\n",
    "   - Consists of two networks: Generator and Discriminator.\n",
    "   - Used for generating realistic images.\n",
    "   - Examples include StyleGAN and CycleGAN.\n",
    "\n",
    "Applications of Generative AI\n",
    "- Content Creation: Automates the generation of articles, reports, and even poetry.\n",
    "- Image Synthesis: Creates realistic images from textual descriptions.\n",
    "- Conversational Agents: Powers chatbots and virtual assistants for customer service and personal use.\n",
    "\n",
    "Challenges and Considerations\n",
    "- Ethical Concerns: Misuse of generative AI for creating deepfakes or spreading misinformation.\n",
    "- Quality Control: Ensuring the generated content is accurate and reliable.\n",
    "- Bias in Training Data: Addressing biases present in the training datasets to prevent skewed outputs.\n",
    "\n",
    "Conclusion\n",
    "Generative AI holds immense potential in various fields, offering innovative solutions and enhancing productivity. However, it is crucial to address the associated ethical and technical challenges to fully harness its capabilities.\n",
    "\"\"\""
   ]
  },
  {
   "cell_type": "code",
   "execution_count": 1,
   "metadata": {},
   "outputs": [],
   "source": [
    "import langchain\n",
    "# from langchain.chains import ConversationalRetrievalChain\n",
    "from langchain_community.llms import VertexAI\n",
    "from langchain_community.embeddings import VertexAIEmbeddings\n",
    "from langchain_community.vectorstores import FAISS\n",
    "from langchain.prompts import PromptTemplate\n",
    "from langchain.memory import ConversationBufferMemory\n",
    "from langchain.chains import LLMChain\n",
    "import json\n",
    "import os\n",
    "os.environ['GOOGLE_APPLICATION_CREDENTIALS'] = \"lumen-b-ctl-047-e2aeb24b0ea0 4.json\""
   ]
  },
  {
   "cell_type": "code",
   "execution_count": 2,
   "metadata": {},
   "outputs": [
    {
     "name": "stderr",
     "output_type": "stream",
     "text": [
      "c:\\Users\\elamaran.k\\AppData\\Local\\Programs\\Python\\Python311\\Lib\\site-packages\\langchain_core\\_api\\deprecation.py:119: LangChainDeprecationWarning: The class `VertexAI` was deprecated in LangChain 0.0.12 and will be removed in 0.3.0. An updated version of the class exists in the langchain-google-vertexai package and should be used instead. To use it run `pip install -U langchain-google-vertexai` and import as `from langchain_google_vertexai import VertexAI`.\n",
      "  warn_deprecated(\n"
     ]
    }
   ],
   "source": [
    "\n",
    "llm = VertexAI(model_name =\"gemini-1.0-pro\")"
   ]
  },
  {
   "cell_type": "code",
   "execution_count": 3,
   "metadata": {},
   "outputs": [
    {
     "name": "stderr",
     "output_type": "stream",
     "text": [
      "c:\\Users\\elamaran.k\\AppData\\Local\\Programs\\Python\\Python311\\Lib\\site-packages\\langchain_core\\_api\\deprecation.py:119: LangChainDeprecationWarning: The class `LLMChain` was deprecated in LangChain 0.1.17 and will be removed in 0.3.0. Use RunnableSequence, e.g., `prompt | llm` instead.\n",
      "  warn_deprecated(\n"
     ]
    },
    {
     "ename": "NameError",
     "evalue": "name 'texts' is not defined",
     "output_type": "error",
     "traceback": [
      "\u001b[1;31m---------------------------------------------------------------------------\u001b[0m",
      "\u001b[1;31mNameError\u001b[0m                                 Traceback (most recent call last)",
      "Cell \u001b[1;32mIn[3], line 22\u001b[0m\n\u001b[0;32m     18\u001b[0m CUSTOM_QUESTION_PROMPT \u001b[38;5;241m=\u001b[39m PromptTemplate(input_variables\u001b[38;5;241m=\u001b[39m[\u001b[38;5;124m\"\u001b[39m\u001b[38;5;124mcontext\u001b[39m\u001b[38;5;124m\"\u001b[39m], template\u001b[38;5;241m=\u001b[39mcustom_prompt)\n\u001b[0;32m     21\u001b[0m chain \u001b[38;5;241m=\u001b[39m LLMChain(llm \u001b[38;5;241m=\u001b[39m llm, prompt\u001b[38;5;241m=\u001b[39mCUSTOM_QUESTION_PROMPT)\n\u001b[1;32m---> 22\u001b[0m output \u001b[38;5;241m=\u001b[39m chain\u001b[38;5;241m.\u001b[39mrun(\u001b[43mtexts\u001b[49m)\n",
      "\u001b[1;31mNameError\u001b[0m: name 'texts' is not defined"
     ]
    }
   ],
   "source": [
    "\n",
    "custom_prompt = \"\"\"Task: Convert structured text to Markdown format for consistency. UTF-8 encoding. Normalize formatting, correct OCR errors, remove duplicates.\n",
    "\n",
    "- Context: {context}\n",
    "\n",
    "Instructions:\n",
    "-------------\n",
    "1. Carefully read through the structured text to understand its content and identify areas that need correction\n",
    "2. Ensure consistent use of Markdown elements such as headings, lists, bold, italics, blockquotes, code blocks, and links.\n",
    "3. Maintain a uniform structure throughout the document\n",
    "4. Identify and remove duplicate content to enhance clarity and readability.\n",
    "5. Ensure that no essential information is lost in the process\n",
    "6.\n",
    "\n",
    "Output:\n",
    "-------\n",
    "- Response: \n",
    "[convert the structured text to Markdown format encoded in UTF-8]\"\"\"\n",
    "\n",
    "CUSTOM_QUESTION_PROMPT = PromptTemplate(input_variables=[\"context\"], template=custom_prompt)\n",
    "\n",
    "\n",
    "chain = LLMChain(llm = llm, prompt=CUSTOM_QUESTION_PROMPT)\n",
    "output = chain.run(texts)\n",
    "\n"
   ]
  },
  {
   "cell_type": "code",
   "execution_count": 27,
   "metadata": {},
   "outputs": [
    {
     "data": {
      "text/plain": [
       "'## Generative AI: An Overview\\n\\n**Introduction**\\n\\nGenerative AI refers to a category of artificial intelligence algorithms that enable machines to generate new data, often resembling human-created content. This can include text, images, audio, and even code.\\n\\n**Key Concepts**\\n\\n* **Models:** Generative AI utilizes models like GPT (Generative Pre-trained Transformer) and GANs (Generative Adversarial Networks).\\n* **Training Data:** These models are trained on vast amounts of data, allowing them to learn patterns and structures.\\n* **Applications:** Some popular applications of generative AI include chatbots, content creation'"
      ]
     },
     "execution_count": 27,
     "metadata": {},
     "output_type": "execute_result"
    }
   ],
   "source": [
    "output"
   ]
  },
  {
   "cell_type": "code",
   "execution_count": 28,
   "metadata": {},
   "outputs": [
    {
     "name": "stdout",
     "output_type": "stream",
     "text": [
      "('## Generative AI: An Overview\\n'\n",
      " '\\n'\n",
      " '**Introduction**\\n'\n",
      " '\\n'\n",
      " 'Generative AI refers to a category of artificial intelligence algorithms '\n",
      " 'that enable machines to generate new data, often resembling human-created '\n",
      " 'content. This can include text, images, audio, and even code.\\n'\n",
      " '\\n'\n",
      " '**Key Concepts**\\n'\n",
      " '\\n'\n",
      " '* **Models:** Generative AI utilizes models like GPT (Generative Pre-trained '\n",
      " 'Transformer) and GANs (Generative Adversarial Networks).\\n'\n",
      " '* **Training Data:** These models are trained on vast amounts of data, '\n",
      " 'allowing them to learn patterns and structures.\\n'\n",
      " '* **Applications:** Some popular applications of generative AI include '\n",
      " 'chatbots, content creation')\n"
     ]
    }
   ],
   "source": [
    "import pprint\n",
    "pprint.pprint(output)"
   ]
  },
  {
   "cell_type": "code",
   "execution_count": null,
   "metadata": {},
   "outputs": [],
   "source": []
  }
 ],
 "metadata": {
  "kernelspec": {
   "display_name": "Python 3",
   "language": "python",
   "name": "python3"
  },
  "language_info": {
   "codemirror_mode": {
    "name": "ipython",
    "version": 3
   },
   "file_extension": ".py",
   "mimetype": "text/x-python",
   "name": "python",
   "nbconvert_exporter": "python",
   "pygments_lexer": "ipython3",
   "version": "3.11.9"
  }
 },
 "nbformat": 4,
 "nbformat_minor": 2
}
